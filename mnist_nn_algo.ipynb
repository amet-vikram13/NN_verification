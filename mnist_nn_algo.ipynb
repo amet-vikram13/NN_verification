{
 "metadata": {
  "colab": {
   "provenance": []
  },
  "kernelspec": {
   "name": "python3",
   "display_name": "Python 3"
  },
  "language_info": {
   "name": "python"
  }
 },
 "nbformat_minor": 4,
 "nbformat": 4,
 "cells": [
  {
   "cell_type": "markdown",
   "source": "# **Import necessary libraries**",
   "metadata": {
    "id": "7QW9obkqViav"
   }
  },
  {
   "cell_type": "code",
   "source": [
    "import numpy as np\n",
    "from sklearn.model_selection import train_test_split\n",
    "import tensorflow as tf\n",
    "import matplotlib.pyplot as plt\n",
    "from tensorflow import keras\n",
    "from tensorflow.keras import layers\n",
    "from tensorflow.keras.datasets import mnist\n",
    "from keras.utils import to_categorical"
   ],
   "metadata": {
    "id": "epN-imwkWSBq"
   },
   "execution_count": null,
   "outputs": []
  },
  {
   "cell_type": "markdown",
   "source": "# **Load and explore MNIST Dataset**",
   "metadata": {
    "id": "7wyOsmxXXQYt"
   }
  },
  {
   "cell_type": "code",
   "source": "(x_train, y_train), (x_test, y_test) = mnist.load_data()",
   "metadata": {
    "id": "7gG-antuXGHg",
    "colab": {
     "base_uri": "https://localhost:8080/"
    },
    "outputId": "b23b1a7d-cf5a-4467-c162-9454d7c60772"
   },
   "execution_count": null,
   "outputs": [
    {
     "output_type": "stream",
     "name": "stdout",
     "text": "Downloading data from https://storage.googleapis.com/tensorflow/tf-keras-datasets/mnist.npz\n\n11490434/11490434 [==============================] - 1s 0us/step\n"
    }
   ]
  },
  {
   "cell_type": "code",
   "source": "print(\"Training Shape:\", x_train.shape, y_train.shape)\nprint(\"----------------------------------------\")\nprint(\"Testing Shape:\", x_test.shape, y_test.shape)",
   "metadata": {
    "id": "0yrkYQ90Xn2D",
    "colab": {
     "base_uri": "https://localhost:8080/"
    },
    "outputId": "8b44e6f9-0519-4286-9418-406eb2c7ee9c"
   },
   "execution_count": null,
   "outputs": [
    {
     "output_type": "stream",
     "name": "stdout",
     "text": "Training Shape: (60000, 28, 28) (60000,)\n\n----------------------------------------\n\nTesting Shape: (10000, 28, 28) (10000,)\n"
    }
   ]
  },
  {
   "cell_type": "markdown",
   "source": "# **Preprocess the data**",
   "metadata": {
    "id": "7TevOo1WX8qB"
   }
  },
  {
   "cell_type": "markdown",
   "source": "**Normalize pixel values (0-255) to (0-1) --> 0 for better training**",
   "metadata": {
    "id": "POBSVAqQTBye"
   }
  },
  {
   "cell_type": "code",
   "source": "# Normalize pixel values (0-255) to (0-1) --> 0 for better training\nx_train = x_train.astype('float32') / 255.0\nx_test = x_test.astype('float32') / 255.0\n\nprint(\"Min: %.3f, Max: %.3f\" % (x_train.min(), x_train.max()))\nprint(\"Min: %.3f, Max: %.3f\" % (x_test.min(), x_test.max()))",
   "metadata": {
    "id": "MZnmhMPmX9Hv",
    "colab": {
     "base_uri": "https://localhost:8080/"
    },
    "outputId": "2d5510d2-20d9-4aaa-85b0-66c77ecd934b"
   },
   "execution_count": null,
   "outputs": [
    {
     "output_type": "stream",
     "name": "stdout",
     "text": "Min: 0.000, Max: 1.000\n\nMin: 0.000, Max: 1.000\n"
    }
   ]
  },
  {
   "cell_type": "markdown",
   "source": "**Reshape the data for input to the neural network**",
   "metadata": {
    "id": "s6eFfj99TJe3"
   }
  },
  {
   "cell_type": "code",
   "source": "# Reshape the data for input to the neural network (28x28 pixels)\nx_train = x_train.reshape((x_train.shape[0], 28, 28, 1))\nx_test = x_test.reshape((x_test.shape[0], 28, 28, 1))\n\nprint(\"Training Shape:\", x_train.shape)\nprint(\"----------------------------\")\nprint(\"Testing Shape:\", x_test.shape)",
   "metadata": {
    "colab": {
     "base_uri": "https://localhost:8080/"
    },
    "id": "8_H3s-wGOUxz",
    "outputId": "9b35012a-64ce-4dc8-ab55-e42d496a5993"
   },
   "execution_count": null,
   "outputs": [
    {
     "output_type": "stream",
     "name": "stdout",
     "text": "Training Shape: (60000, 28, 28, 1)\n\n----------------------------\n\nTesting Shape: (10000, 28, 28, 1)\n"
    }
   ]
  },
  {
   "cell_type": "markdown",
   "source": "**Convert the labels from integer format to a one-hot encoded vector**",
   "metadata": {
    "id": "9BhAuLjlTWui"
   }
  },
  {
   "cell_type": "code",
   "source": "y_train = to_categorical(y_train, num_classes=10)\ny_test = to_categorical(y_test, num_classes=10)\n\nprint(y_train[0])\nprint(y_test[0])",
   "metadata": {
    "colab": {
     "base_uri": "https://localhost:8080/"
    },
    "id": "9UUy_xaXTUpd",
    "outputId": "a610f473-2e66-4ede-e063-cd6782f4711e"
   },
   "execution_count": null,
   "outputs": [
    {
     "output_type": "stream",
     "name": "stdout",
     "text": "[0. 0. 0. 0. 0. 1. 0. 0. 0. 0.]\n\n[0. 0. 0. 0. 0. 0. 0. 1. 0. 0.]\n"
    }
   ]
  },
  {
   "cell_type": "markdown",
   "source": "# **Split data to train, validation and test data**\n",
   "metadata": {
    "id": "HvU8v2h3qk76"
   }
  },
  {
   "cell_type": "code",
   "source": "x_train, x_val, y_train, y_val = train_test_split(x_train, y_train, test_size=0.20, random_state=1)",
   "metadata": {
    "id": "oZXiagA2oN_l"
   },
   "execution_count": null,
   "outputs": []
  },
  {
   "cell_type": "code",
   "source": "print(\"Training Shape:\", x_train.shape, y_train.shape)\nprint(\"------------------------------------------\")\nprint(\"validation Shape:\", x_val.shape, y_val.shape)",
   "metadata": {
    "colab": {
     "base_uri": "https://localhost:8080/"
    },
    "id": "oBiuQJsxWHlX",
    "outputId": "dfab897f-620f-454b-d80a-bf7bef017fd8"
   },
   "execution_count": null,
   "outputs": [
    {
     "output_type": "stream",
     "name": "stdout",
     "text": "Training Shape: (48000, 28, 28, 1) (48000, 10)\n\n------------------------------------------\n\nvalidation Shape: (12000, 28, 28, 1) (12000, 10)\n"
    }
   ]
  },
  {
   "cell_type": "markdown",
   "source": "# **Implementing 4 different architectures**",
   "metadata": {
    "id": "4m7qvUU7ZiyE"
   }
  },
  {
   "cell_type": "markdown",
   "source": "**Architecture 1: Only Dense Layers**",
   "metadata": {
    "id": "xmHDHxwVvqRS"
   }
  },
  {
   "cell_type": "code",
   "source": "model_1 = keras.Sequential([\n    layers.Flatten(input_shape=(28,28,1)),\n\n    layers.Dense(512, activation='relu', input_shape=(28*28,)),\n\n    layers.Dense(256, activation='relu'),\n\n    layers.Dense(10, activation='softmax')\n])",
   "metadata": {
    "id": "7bDCWjCsZqhT"
   },
   "execution_count": null,
   "outputs": []
  },
  {
   "cell_type": "code",
   "source": "model_1.compile(\n    optimizer= 'adam',\n    loss='categorical_crossentropy',\n    metrics=['accuracy']\n)",
   "metadata": {
    "id": "s0HOf5mqZqnr"
   },
   "execution_count": null,
   "outputs": []
  },
  {
   "cell_type": "code",
   "source": "model_1.summary()",
   "metadata": {
    "id": "mhZdclN9HAIc",
    "colab": {
     "base_uri": "https://localhost:8080/"
    },
    "outputId": "600e3e24-6972-4aae-d528-859dd13941ec"
   },
   "execution_count": null,
   "outputs": [
    {
     "output_type": "stream",
     "name": "stdout",
     "text": "Model: \"sequential\"\n\n_________________________________________________________________\n\n Layer (type)                Output Shape              Param #   \n\n=================================================================\n\n flatten (Flatten)           (None, 784)               0         \n\n                                                                 \n\n dense (Dense)               (None, 512)               401920    \n\n                                                                 \n\n dense_1 (Dense)             (None, 256)               131328    \n\n                                                                 \n\n dense_2 (Dense)             (None, 10)                2570      \n\n                                                                 \n\n=================================================================\n\nTotal params: 535818 (2.04 MB)\n\nTrainable params: 535818 (2.04 MB)\n\nNon-trainable params: 0 (0.00 Byte)\n\n_________________________________________________________________\n"
    }
   ]
  },
  {
   "cell_type": "code",
   "source": "model_1.fit(x_train, y_train, validation_data=(x_val, y_val), epochs=10, batch_size=32)",
   "metadata": {
    "colab": {
     "base_uri": "https://localhost:8080/"
    },
    "id": "8xoGnP8wHEIA",
    "outputId": "d20e7101-2775-4e46-8195-f5cd8f051e4d"
   },
   "execution_count": null,
   "outputs": [
    {
     "output_type": "stream",
     "name": "stdout",
     "text": "Epoch 1/10\n\n1500/1500 [==============================] - 14s 9ms/step - loss: 0.2044 - accuracy: 0.9380 - val_loss: 0.1314 - val_accuracy: 0.9593\n\nEpoch 2/10\n\n1500/1500 [==============================] - 13s 8ms/step - loss: 0.0864 - accuracy: 0.9736 - val_loss: 0.0922 - val_accuracy: 0.9710\n\nEpoch 3/10\n\n1500/1500 [==============================] - 12s 8ms/step - loss: 0.0580 - accuracy: 0.9817 - val_loss: 0.1144 - val_accuracy: 0.9686\n\nEpoch 4/10\n\n1500/1500 [==============================] - 13s 9ms/step - loss: 0.0425 - accuracy: 0.9863 - val_loss: 0.1008 - val_accuracy: 0.9707\n\nEpoch 5/10\n\n1500/1500 [==============================] - 13s 9ms/step - loss: 0.0337 - accuracy: 0.9896 - val_loss: 0.0865 - val_accuracy: 0.9750\n\nEpoch 6/10\n\n1500/1500 [==============================] - 13s 9ms/step - loss: 0.0274 - accuracy: 0.9906 - val_loss: 0.0974 - val_accuracy: 0.9779\n\nEpoch 7/10\n\n1500/1500 [==============================] - 12s 8ms/step - loss: 0.0243 - accuracy: 0.9920 - val_loss: 0.0966 - val_accuracy: 0.9765\n\nEpoch 8/10\n\n1500/1500 [==============================] - 13s 9ms/step - loss: 0.0202 - accuracy: 0.9935 - val_loss: 0.1148 - val_accuracy: 0.9758\n\nEpoch 9/10\n\n1500/1500 [==============================] - 14s 9ms/step - loss: 0.0182 - accuracy: 0.9943 - val_loss: 0.1033 - val_accuracy: 0.9778\n\nEpoch 10/10\n\n1500/1500 [==============================] - 13s 9ms/step - loss: 0.0189 - accuracy: 0.9940 - val_loss: 0.1061 - val_accuracy: 0.9794\n"
    },
    {
     "output_type": "execute_result",
     "execution_count": 18,
     "data": {
      "text/plain": [
       "<keras.src.callbacks.History at 0x7eeb01fede70>"
      ]
     },
     "metadata": {}
    }
   ]
  },
  {
   "cell_type": "code",
   "source": "test_loss_1, test_accuracy_1 = model_1.evaluate(x_test, y_test)\n\nprint(\"\\nAccuracy =\", test_accuracy_1, \"\\n-----------------------------\", \"\\nLoss =\", test_loss_1)",
   "metadata": {
    "id": "8FrU_Vc8HiCJ",
    "colab": {
     "base_uri": "https://localhost:8080/"
    },
    "outputId": "37c3e1e8-4a5f-4975-ef11-1ad664292ed4"
   },
   "execution_count": null,
   "outputs": [
    {
     "output_type": "stream",
     "name": "stdout",
     "text": "313/313 [==============================] - 1s 2ms/step - loss: 0.0923 - accuracy: 0.9817\n\n\n\nAccuracy = 0.9817000031471252 \n\n----------------------------- \n\nLoss = 0.0923340916633606\n"
    }
   ]
  },
  {
   "cell_type": "markdown",
   "source": "**Architecture 2: Basic CNN**",
   "metadata": {
    "id": "g8BOnT27vm6W"
   }
  },
  {
   "cell_type": "code",
   "source": "model_2 = keras.Sequential([\n    layers.Conv2D(32, (3,3), activation='relu', input_shape=(28,28,1)),\n\n    layers.MaxPooling2D((2,2)),\n\n    layers.Conv2D(64, (3,3), activation='relu'),\n\n    layers.MaxPooling2D((2,2)),\n\n    layers.Flatten(),\n\n    layers.Dense(128, activation='relu'),\n\n    layers.Dense(10, activation='softmax')\n])",
   "metadata": {
    "id": "j6e63apvZncy"
   },
   "execution_count": null,
   "outputs": []
  },
  {
   "cell_type": "code",
   "source": "model_2.compile(\n    optimizer= 'Adam',\n    loss='categorical_crossentropy',\n    metrics=['accuracy']\n)",
   "metadata": {
    "id": "XxfK2Amizwrd"
   },
   "execution_count": null,
   "outputs": []
  },
  {
   "cell_type": "code",
   "source": "model_2.summary()",
   "metadata": {
    "id": "Q7FCpodc0Rno",
    "colab": {
     "base_uri": "https://localhost:8080/"
    },
    "outputId": "baa6baf7-7b3e-40cc-ccec-d95b5d58a1ce"
   },
   "execution_count": null,
   "outputs": [
    {
     "output_type": "stream",
     "name": "stdout",
     "text": "Model: \"sequential_1\"\n\n_________________________________________________________________\n\n Layer (type)                Output Shape              Param #   \n\n=================================================================\n\n conv2d (Conv2D)             (None, 26, 26, 32)        320       \n\n                                                                 \n\n max_pooling2d (MaxPooling2  (None, 13, 13, 32)        0         \n\n D)                                                              \n\n                                                                 \n\n conv2d_1 (Conv2D)           (None, 11, 11, 64)        18496     \n\n                                                                 \n\n max_pooling2d_1 (MaxPoolin  (None, 5, 5, 64)          0         \n\n g2D)                                                            \n\n                                                                 \n\n flatten_1 (Flatten)         (None, 1600)              0         \n\n                                                                 \n\n dense_3 (Dense)             (None, 128)               204928    \n\n                                                                 \n\n dense_4 (Dense)             (None, 10)                1290      \n\n                                                                 \n\n=================================================================\n\nTotal params: 225034 (879.04 KB)\n\nTrainable params: 225034 (879.04 KB)\n\nNon-trainable params: 0 (0.00 Byte)\n\n_________________________________________________________________\n"
    }
   ]
  },
  {
   "cell_type": "code",
   "source": "model_2.fit(x_train, y_train, batch_size=32, validation_data=(x_val, y_val), epochs=10)",
   "metadata": {
    "id": "nWwH4yJp0kYs",
    "colab": {
     "base_uri": "https://localhost:8080/"
    },
    "outputId": "a07bb21a-f21c-4244-bea5-0f7bab6ee91a"
   },
   "execution_count": null,
   "outputs": [
    {
     "output_type": "stream",
     "name": "stdout",
     "text": "Epoch 1/10\n\n1500/1500 [==============================] - 40s 26ms/step - loss: 0.1481 - accuracy: 0.9555 - val_loss: 0.0593 - val_accuracy: 0.9818\n\nEpoch 2/10\n\n1500/1500 [==============================] - 39s 26ms/step - loss: 0.0440 - accuracy: 0.9866 - val_loss: 0.0487 - val_accuracy: 0.9849\n\nEpoch 3/10\n\n1500/1500 [==============================] - 39s 26ms/step - loss: 0.0297 - accuracy: 0.9906 - val_loss: 0.0471 - val_accuracy: 0.9858\n\nEpoch 4/10\n\n1500/1500 [==============================] - 41s 28ms/step - loss: 0.0218 - accuracy: 0.9927 - val_loss: 0.0450 - val_accuracy: 0.9877\n\nEpoch 5/10\n\n1500/1500 [==============================] - 39s 26ms/step - loss: 0.0161 - accuracy: 0.9946 - val_loss: 0.0459 - val_accuracy: 0.9866\n\nEpoch 6/10\n\n1500/1500 [==============================] - 39s 26ms/step - loss: 0.0136 - accuracy: 0.9955 - val_loss: 0.0538 - val_accuracy: 0.9869\n\nEpoch 7/10\n\n1500/1500 [==============================] - 41s 28ms/step - loss: 0.0099 - accuracy: 0.9968 - val_loss: 0.0481 - val_accuracy: 0.9887\n\nEpoch 8/10\n\n1500/1500 [==============================] - 40s 26ms/step - loss: 0.0086 - accuracy: 0.9970 - val_loss: 0.0608 - val_accuracy: 0.9862\n\nEpoch 9/10\n\n1500/1500 [==============================] - 39s 26ms/step - loss: 0.0072 - accuracy: 0.9974 - val_loss: 0.0513 - val_accuracy: 0.9891\n\nEpoch 10/10\n\n1500/1500 [==============================] - 38s 26ms/step - loss: 0.0069 - accuracy: 0.9976 - val_loss: 0.0659 - val_accuracy: 0.9890\n"
    },
    {
     "output_type": "execute_result",
     "execution_count": 23,
     "data": {
      "text/plain": [
       "<keras.src.callbacks.History at 0x7eeaf8d8e470>"
      ]
     },
     "metadata": {}
    }
   ]
  },
  {
   "cell_type": "code",
   "source": "test_loss_2, test_accuracy_2 = model_2.evaluate(x_test, y_test)\n\nprint(\"\\nAccuracy =\", test_accuracy_2, \"\\n-----------------------------\", \"\\nLoss =\", test_loss_2)",
   "metadata": {
    "id": "gwVSWUjS1rCt",
    "colab": {
     "base_uri": "https://localhost:8080/"
    },
    "outputId": "eb276e6a-f00d-40c4-fc43-645342104d48"
   },
   "execution_count": null,
   "outputs": [
    {
     "output_type": "stream",
     "name": "stdout",
     "text": "313/313 [==============================] - 3s 8ms/step - loss: 0.0428 - accuracy: 0.9910\n\n\n\nAccuracy = 0.9909999966621399 \n\n----------------------------- \n\nLoss = 0.04280472919344902\n"
    }
   ]
  },
  {
   "cell_type": "markdown",
   "source": "**Architecture 3: A deeper CNN with dropout**",
   "metadata": {
    "id": "I2pZdLjjBB8x"
   }
  },
  {
   "cell_type": "code",
   "source": "model_3 = keras.Sequential([\n    layers.Conv2D(32, (3,3), activation='relu', input_shape=(28,28,1)),\n\n    layers.MaxPooling2D((2,2)),\n\n    layers.Conv2D(64, (3,3), activation='relu'),\n\n    layers.MaxPooling2D((2,2)),\n\n    layers.Conv2D(128, (3,3), activation='relu'),\n\n    layers.Flatten(),\n\n    layers.Dropout(0.5),\n\n    layers.Dense(128, activation='relu'),\n\n    layers.Dropout(0.5),\n\n    layers.Dense(10, activation='softmax')\n])",
   "metadata": {
    "id": "fmL0rqJ8iNS9"
   },
   "execution_count": null,
   "outputs": []
  },
  {
   "cell_type": "code",
   "source": "model_3.compile(\n    optimizer='adam',\n    loss='categorical_crossentropy',\n    metrics=['accuracy']\n)",
   "metadata": {
    "id": "cYLfKVidkqDI"
   },
   "execution_count": null,
   "outputs": []
  },
  {
   "cell_type": "code",
   "source": "model_3.summary()",
   "metadata": {
    "id": "ReZo22BVk8fV",
    "colab": {
     "base_uri": "https://localhost:8080/"
    },
    "outputId": "f04fd67b-7b51-4002-ec68-3739b8ddf0a8"
   },
   "execution_count": null,
   "outputs": [
    {
     "output_type": "stream",
     "name": "stdout",
     "text": "Model: \"sequential_2\"\n\n_________________________________________________________________\n\n Layer (type)                Output Shape              Param #   \n\n=================================================================\n\n conv2d_2 (Conv2D)           (None, 26, 26, 32)        320       \n\n                                                                 \n\n max_pooling2d_2 (MaxPoolin  (None, 13, 13, 32)        0         \n\n g2D)                                                            \n\n                                                                 \n\n conv2d_3 (Conv2D)           (None, 11, 11, 64)        18496     \n\n                                                                 \n\n max_pooling2d_3 (MaxPoolin  (None, 5, 5, 64)          0         \n\n g2D)                                                            \n\n                                                                 \n\n conv2d_4 (Conv2D)           (None, 3, 3, 128)         73856     \n\n                                                                 \n\n flatten_2 (Flatten)         (None, 1152)              0         \n\n                                                                 \n\n dropout (Dropout)           (None, 1152)              0         \n\n                                                                 \n\n dense_5 (Dense)             (None, 128)               147584    \n\n                                                                 \n\n dropout_1 (Dropout)         (None, 128)               0         \n\n                                                                 \n\n dense_6 (Dense)             (None, 10)                1290      \n\n                                                                 \n\n=================================================================\n\nTotal params: 241546 (943.54 KB)\n\nTrainable params: 241546 (943.54 KB)\n\nNon-trainable params: 0 (0.00 Byte)\n\n_________________________________________________________________\n"
    }
   ]
  },
  {
   "cell_type": "code",
   "source": "model_3.fit(x_train, y_train, batch_size=32, validation_data=(x_val, y_val), epochs=10)",
   "metadata": {
    "id": "zUUr5gkflBBF",
    "colab": {
     "base_uri": "https://localhost:8080/"
    },
    "outputId": "731bc923-1da2-46e3-c2ab-4bcedfa400a4"
   },
   "execution_count": null,
   "outputs": [
    {
     "output_type": "stream",
     "name": "stdout",
     "text": "Epoch 1/10\n\n1500/1500 [==============================] - 47s 30ms/step - loss: 0.2688 - accuracy: 0.9173 - val_loss: 0.0586 - val_accuracy: 0.9807\n\nEpoch 2/10\n\n1500/1500 [==============================] - 47s 32ms/step - loss: 0.0868 - accuracy: 0.9741 - val_loss: 0.0500 - val_accuracy: 0.9856\n\nEpoch 3/10\n\n1500/1500 [==============================] - 44s 29ms/step - loss: 0.0668 - accuracy: 0.9802 - val_loss: 0.0373 - val_accuracy: 0.9891\n\nEpoch 4/10\n\n1500/1500 [==============================] - 45s 30ms/step - loss: 0.0521 - accuracy: 0.9843 - val_loss: 0.0454 - val_accuracy: 0.9867\n\nEpoch 5/10\n\n1500/1500 [==============================] - 44s 29ms/step - loss: 0.0452 - accuracy: 0.9863 - val_loss: 0.0480 - val_accuracy: 0.9865\n\nEpoch 6/10\n\n1500/1500 [==============================] - 46s 31ms/step - loss: 0.0428 - accuracy: 0.9870 - val_loss: 0.0522 - val_accuracy: 0.9864\n\nEpoch 7/10\n\n1500/1500 [==============================] - 44s 29ms/step - loss: 0.0371 - accuracy: 0.9894 - val_loss: 0.0330 - val_accuracy: 0.9906\n\nEpoch 8/10\n\n1500/1500 [==============================] - 45s 30ms/step - loss: 0.0327 - accuracy: 0.9900 - val_loss: 0.0355 - val_accuracy: 0.9905\n\nEpoch 9/10\n\n1500/1500 [==============================] - 45s 30ms/step - loss: 0.0320 - accuracy: 0.9902 - val_loss: 0.0376 - val_accuracy: 0.9904\n\nEpoch 10/10\n\n1500/1500 [==============================] - 45s 30ms/step - loss: 0.0288 - accuracy: 0.9911 - val_loss: 0.0359 - val_accuracy: 0.9908\n"
    },
    {
     "output_type": "execute_result",
     "execution_count": 28,
     "data": {
      "text/plain": [
       "<keras.src.callbacks.History at 0x7eeafa607100>"
      ]
     },
     "metadata": {}
    }
   ]
  },
  {
   "cell_type": "code",
   "source": "test_loss_3, test_accuracy_3 = model_3.evaluate(x_test, y_test)\n\nprint(\"\\nAccuracy =\", test_accuracy_3, \"\\n-----------------------------\", \"\\nLoss =\", test_loss_3)",
   "metadata": {
    "id": "dqrfzDw2lLwV",
    "colab": {
     "base_uri": "https://localhost:8080/"
    },
    "outputId": "fb44ad31-1ce6-40fd-add4-968e373b018b"
   },
   "execution_count": null,
   "outputs": [
    {
     "output_type": "stream",
     "name": "stdout",
     "text": "313/313 [==============================] - 3s 8ms/step - loss: 0.0262 - accuracy: 0.9938\n\n\n\nAccuracy = 0.9937999844551086 \n\n----------------------------- \n\nLoss = 0.026234960183501244\n"
    }
   ]
  },
  {
   "cell_type": "markdown",
   "source": "**Architecture 4: Complex CNN with batch normalization**",
   "metadata": {
    "id": "QBEjqhDdljK5"
   }
  },
  {
   "cell_type": "code",
   "source": "model_4 = keras.Sequential([\n    layers.Conv2D(32, (3,3), activation='relu', input_shape=(28, 28, 1)),\n\n    layers.BatchNormalization(),\n\n    layers.MaxPooling2D((2,2)),\n\n    layers.Conv2D(64, (3,3), activation='relu'),\n\n    layers.BatchNormalization(),\n\n    layers.MaxPooling2D((2,2)),\n\n    layers.Conv2D(128, (3,3), activation='relu'),\n\n    layers.Flatten(),\n\n    layers.Dropout(0.2),             # using 20% dropout instead of 50%\n\n    layers.Dense(128, activation='relu'),\n\n    layers.Dropout(0.2),\n\n    layers.Dense(10, activation='softmax'),\n])",
   "metadata": {
    "id": "0lQq8y_Ol9PP"
   },
   "execution_count": null,
   "outputs": []
  },
  {
   "cell_type": "code",
   "source": "model_4.compile(\n    optimizer='adam',\n    loss='categorical_crossentropy',\n    metrics=['accuracy']\n)",
   "metadata": {
    "id": "BQA1r2C7pY94"
   },
   "execution_count": null,
   "outputs": []
  },
  {
   "cell_type": "code",
   "source": "model_4.summary()",
   "metadata": {
    "colab": {
     "base_uri": "https://localhost:8080/"
    },
    "id": "hEeLGiz1p2zr",
    "outputId": "2def0871-5c66-40aa-e48f-649002bc5d6e"
   },
   "execution_count": null,
   "outputs": [
    {
     "output_type": "stream",
     "name": "stdout",
     "text": "Model: \"sequential_3\"\n\n_________________________________________________________________\n\n Layer (type)                Output Shape              Param #   \n\n=================================================================\n\n conv2d_5 (Conv2D)           (None, 26, 26, 32)        320       \n\n                                                                 \n\n batch_normalization (Batch  (None, 26, 26, 32)        128       \n\n Normalization)                                                  \n\n                                                                 \n\n max_pooling2d_4 (MaxPoolin  (None, 13, 13, 32)        0         \n\n g2D)                                                            \n\n                                                                 \n\n conv2d_6 (Conv2D)           (None, 11, 11, 64)        18496     \n\n                                                                 \n\n batch_normalization_1 (Bat  (None, 11, 11, 64)        256       \n\n chNormalization)                                                \n\n                                                                 \n\n max_pooling2d_5 (MaxPoolin  (None, 5, 5, 64)          0         \n\n g2D)                                                            \n\n                                                                 \n\n conv2d_7 (Conv2D)           (None, 3, 3, 128)         73856     \n\n                                                                 \n\n flatten_3 (Flatten)         (None, 1152)              0         \n\n                                                                 \n\n dropout_2 (Dropout)         (None, 1152)              0         \n\n                                                                 \n\n dense_7 (Dense)             (None, 128)               147584    \n\n                                                                 \n\n dropout_3 (Dropout)         (None, 128)               0         \n\n                                                                 \n\n dense_8 (Dense)             (None, 10)                1290      \n\n                                                                 \n\n=================================================================\n\nTotal params: 241930 (945.04 KB)\n\nTrainable params: 241738 (944.29 KB)\n\nNon-trainable params: 192 (768.00 Byte)\n\n_________________________________________________________________\n"
    }
   ]
  },
  {
   "cell_type": "code",
   "source": "model_4.fit(x_train, y_train, batch_size=64, validation_data=(x_val, y_val), epochs=6)",
   "metadata": {
    "colab": {
     "base_uri": "https://localhost:8080/"
    },
    "id": "PEC40D4ap22n",
    "outputId": "13d4c2c1-a5a2-49e7-e5ff-d1c8dda03ba2"
   },
   "execution_count": null,
   "outputs": [
    {
     "output_type": "stream",
     "name": "stdout",
     "text": "Epoch 1/6\n\n750/750 [==============================] - 58s 76ms/step - loss: 0.1447 - accuracy: 0.9554 - val_loss: 0.0589 - val_accuracy: 0.9827\n\nEpoch 2/6\n\n750/750 [==============================] - 56s 75ms/step - loss: 0.0541 - accuracy: 0.9837 - val_loss: 0.0655 - val_accuracy: 0.9799\n\nEpoch 3/6\n\n750/750 [==============================] - 56s 75ms/step - loss: 0.0444 - accuracy: 0.9870 - val_loss: 0.0494 - val_accuracy: 0.9847\n\nEpoch 4/6\n\n750/750 [==============================] - 57s 76ms/step - loss: 0.0335 - accuracy: 0.9896 - val_loss: 0.0519 - val_accuracy: 0.9856\n\nEpoch 5/6\n\n750/750 [==============================] - 54s 72ms/step - loss: 0.0283 - accuracy: 0.9906 - val_loss: 0.0520 - val_accuracy: 0.9882\n\nEpoch 6/6\n\n750/750 [==============================] - 53s 71ms/step - loss: 0.0254 - accuracy: 0.9919 - val_loss: 0.0460 - val_accuracy: 0.9887\n"
    },
    {
     "output_type": "execute_result",
     "execution_count": 33,
     "data": {
      "text/plain": [
       "<keras.src.callbacks.History at 0x7eeafa4ea4a0>"
      ]
     },
     "metadata": {}
    }
   ]
  },
  {
   "cell_type": "code",
   "source": "test_loss_4, test_accuracy_4 = model_4.evaluate(x_test, y_test)\n\nprint(\"\\nAccuracy =\", test_accuracy_4, \"\\n-----------------------------\", \"\\nLoss =\", test_loss_4)",
   "metadata": {
    "id": "Ha1YJIfAqOHv",
    "colab": {
     "base_uri": "https://localhost:8080/"
    },
    "outputId": "d5e0f5af-6018-4b2f-f541-ca64dbbf5bbe"
   },
   "execution_count": null,
   "outputs": [
    {
     "output_type": "stream",
     "name": "stdout",
     "text": "313/313 [==============================] - 5s 16ms/step - loss: 0.0365 - accuracy: 0.9905\n\n\n\nAccuracy = 0.9904999732971191 \n\n----------------------------- \n\nLoss = 0.03652634471654892\n"
    }
   ]
  },
  {
   "cell_type": "markdown",
   "source": "# **Predict Fuction**",
   "metadata": {
    "id": "dTODwfz2YMan"
   }
  },
  {
   "cell_type": "code",
   "source": "def predict(model, image):\n\n    reshaped_image = image.reshape((1, 28, 28, 1))\n    prediction = model.predict(reshaped_image)\n    predicted_class = np.argmax(prediction)\n\n    return predicted_class\n",
   "metadata": {
    "id": "CcCLYysfYL6K"
   },
   "execution_count": null,
   "outputs": []
  },
  {
   "cell_type": "code",
   "source": "predict_image_class = predict(model_1, x_test[0])\nprint(\"Predicted Class Label: \", predict_image_class)\nprint(\"Actual Class Label of the same image:\",(np.argmax(y_test[0])))",
   "metadata": {
    "colab": {
     "base_uri": "https://localhost:8080/"
    },
    "id": "vRUSRhOJouy5",
    "outputId": "1e6f923e-1e67-437b-9ecb-bd0b4da4538f"
   },
   "execution_count": null,
   "outputs": [
    {
     "output_type": "stream",
     "name": "stdout",
     "text": "1/1 [==============================] - 0s 138ms/step\n\nPredicted Class Label:  7\n\nActual Class Label of the same image: 7\n"
    }
   ]
  },
  {
   "cell_type": "markdown",
   "source": "# **Comparison**",
   "metadata": {
    "id": "BDhQ02D0qgo4"
   }
  },
  {
   "cell_type": "code",
   "source": "def compare_models(models, x_test, y_test):\n    accuracies = []\n    model_names = []\n\n    for model in models:\n        _, accuracy = model.evaluate(x_test, y_test)\n        accuracies.append(accuracy)\n\n    best_model_index = np.argmax(accuracies)\n    best_model = models[best_model_index]\n    best_accuracy = accuracies[best_model_index]\n    model_names = [f\"Model {i+1}\" for i in range(len(models))]\n\n    plt.plot(model_names, accuracies, marker='o')\n    plt.xlabel('Models')\n    plt.ylabel('Accuracy')\n    plt.title('Comparison of Model Accuracies')\n    plt.xticks(rotation=45)\n    plt.show()\n\n\n    print(\"Comparison Results:\")\n    for i in range(len(models)):\n        print(f\"Model {i+1} - Accuracy: { accuracies[i]:.4f}\")\n\n    print(f\"Best Model : Model {best_model_index+1}\")\n    print(f\"Best Accuracy: {best_accuracy:.4f}\")\n\n    return best_model",
   "metadata": {
    "id": "ODa0srxaqnJh"
   },
   "execution_count": null,
   "outputs": []
  },
  {
   "cell_type": "code",
   "source": "models = [model_1, model_2, model_3, model_4]\nbest_model = compare_models(models, x_test, y_test)",
   "metadata": {
    "id": "t0_piPJ6qnMd",
    "colab": {
     "base_uri": "https://localhost:8080/",
     "height": 707
    },
    "outputId": "6992de5c-e37c-4aaa-bf80-89963b5e35bf"
   },
   "execution_count": null,
   "outputs": [
    {
     "output_type": "stream",
     "name": "stdout",
     "text": "313/313 [==============================] - 1s 3ms/step - loss: 0.0923 - accuracy: 0.9817\n\n313/313 [==============================] - 2s 7ms/step - loss: 0.0428 - accuracy: 0.9910\n\n313/313 [==============================] - 3s 8ms/step - loss: 0.0262 - accuracy: 0.9938\n\n313/313 [==============================] - 4s 11ms/step - loss: 0.0365 - accuracy: 0.9905\n"
    },
    {
     "output_type": "display_data",
     "data": {
      "text/plain": [
       "<Figure size 640x480 with 1 Axes>"
      ],
      "image/png": "[encoded data removed]"
     },
     "metadata": {}
    },
    {
     "output_type": "stream",
     "name": "stdout",
     "text": "Comparison Results:\n\nModel 1 - Accuracy: 0.9817\n\nModel 2 - Accuracy: 0.9910\n\nModel 3 - Accuracy: 0.9938\n\nModel 4 - Accuracy: 0.9905\n\nBest Model : Model 3\n\nBest Accuracy: 0.9938\n"
    }
   ]
  }
 ]
}
